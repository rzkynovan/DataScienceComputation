{
 "cells": [
  {
   "cell_type": "code",
   "execution_count": 18,
   "metadata": {},
   "outputs": [],
   "source": [
    "def RegLinear(x,y):\n",
    "    Length = len(x)\n",
    "    sum_x = 0\n",
    "    sum_y = 0\n",
    "    cov = 0\n",
    "    var = 0\n",
    "    for i in range(Length):\n",
    "        sum_x = sum_x + x[i]\n",
    "        sum_y = sum_y + y[i]\n",
    "    x_bar = sum_x/Length\n",
    "    y_bar = sum_y/Length\n",
    "    \n",
    "    for i in range(Length):\n",
    "        cov = cov + (x[i] - x_bar)*(y[i] - y_bar)\n",
    "        var = var + (x[i] - x_bar)**2\n",
    "\n",
    "    B1 = cov/var\n",
    "    B0 = y_bar - B1*x_bar\n",
    "    res = [B0,B1]\n",
    "    return res\n"
   ]
  },
  {
   "cell_type": "code",
   "execution_count": 22,
   "metadata": {},
   "outputs": [],
   "source": [
    "X = [77, 21, 22, 20, 36, 15, 62, 95, 20, 5]\n",
    "Y = [79, 23, 25, 17, 41, 9, 58, 97, 18, 8]\n"
   ]
  },
  {
   "cell_type": "code",
   "execution_count": 23,
   "metadata": {},
   "outputs": [
    {
     "data": {
      "text/plain": [
       "[-0.41464670614632126, 1.0164784639717512]"
      ]
     },
     "execution_count": 23,
     "metadata": {},
     "output_type": "execute_result"
    }
   ],
   "source": [
    "RegLinear(X, Y)"
   ]
  },
  {
   "cell_type": "code",
   "execution_count": 24,
   "metadata": {},
   "outputs": [],
   "source": [
    "import scipy as sp"
   ]
  },
  {
   "cell_type": "code",
   "execution_count": 25,
   "metadata": {},
   "outputs": [
    {
     "name": "stdout",
     "output_type": "stream",
     "text": [
      "-0.41464670614632126 1.0164784639717512\n"
     ]
    }
   ],
   "source": [
    "slope, intercept, r_value, p_value, std_err = sp.stats.linregress(X, Y)\n",
    "print(intercept, slope)"
   ]
  },
  {
   "cell_type": "code",
   "execution_count": null,
   "metadata": {},
   "outputs": [],
   "source": []
  }
 ],
 "metadata": {
  "kernelspec": {
   "display_name": "datmin_w2",
   "language": "python",
   "name": "python3"
  },
  "language_info": {
   "codemirror_mode": {
    "name": "ipython",
    "version": 3
   },
   "file_extension": ".py",
   "mimetype": "text/x-python",
   "name": "python",
   "nbconvert_exporter": "python",
   "pygments_lexer": "ipython3",
   "version": "3.10.16"
  }
 },
 "nbformat": 4,
 "nbformat_minor": 2
}
